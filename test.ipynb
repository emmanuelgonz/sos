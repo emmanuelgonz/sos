{
 "cells": [
  {
   "cell_type": "code",
   "execution_count": null,
   "metadata": {},
   "outputs": [],
   "source": [
    "import xarray as xr\n",
    "import rioxarray as rxr\n",
    "import numpy as np\n",
    "import matplotlib.pyplot as plt\n",
    "import io\n",
    "from PIL import Image"
   ]
  },
  {
   "cell_type": "code",
   "execution_count": null,
   "metadata": {},
   "outputs": [],
   "source": [
    "def open_netcdf(file_path):\n",
    "    # Open the NetCDF file\n",
    "    # dataset = nc.Dataset(file_path, mode='r')\n",
    "    dataset = xr.open_dataset(file_path)\n",
    "    # dataset = dataset.time.isel(time=time_step)\n",
    "\n",
    "    return dataset\n",
    "\n",
    "def get_extents(dataset, variable):\n",
    "    # Extract the GeoTransform attribute\n",
    "    geo_transform = dataset['spatial_ref'].GeoTransform.split()\n",
    "    # Convert GeoTransform values to float\n",
    "    geo_transform = [float(value) for value in geo_transform]\n",
    "    # Calculate the extents (four corners)\n",
    "    min_x = geo_transform[0]\n",
    "    pixel_width = geo_transform[1]\n",
    "    max_y = geo_transform[3]\n",
    "    pixel_height = geo_transform[5]\n",
    "    # Get the actual dimensions of the raster layer\n",
    "    n_rows, n_cols = dataset[variable][0, :, :].shape\n",
    "    # Calculate the coordinates of the four corners\n",
    "    top_left = (min_x, max_y)\n",
    "    top_right = (min_x + n_cols * pixel_width, max_y)\n",
    "    bottom_left = (min_x, max_y + n_rows * pixel_height)\n",
    "    bottom_right = (min_x + n_cols * pixel_width, max_y + n_rows * pixel_height)\n",
    "    return top_left, top_right, bottom_left, bottom_right"
   ]
  },
  {
   "cell_type": "code",
   "execution_count": null,
   "metadata": {},
   "outputs": [],
   "source": [
    "dataset = open_netcdf(file_path='./data/Efficiency_files/Efficiency_high_resolution_Caesium/efficiency_snow_cover.nc')"
   ]
  },
  {
   "cell_type": "code",
   "execution_count": null,
   "metadata": {},
   "outputs": [],
   "source": [
    "dataset['Weekly_Snow_Cover']"
   ]
  },
  {
   "cell_type": "code",
   "execution_count": null,
   "metadata": {},
   "outputs": [],
   "source": [
    "dataset['Weekly_Snow_Cover'].isel(time=0).plot()"
   ]
  },
  {
   "cell_type": "code",
   "execution_count": null,
   "metadata": {},
   "outputs": [],
   "source": [
    "selected_data = dataset['Weekly_Snow_Cover'].sel(time='2024-01-01')\n",
    "selected_data.plot()"
   ]
  },
  {
   "cell_type": "code",
   "execution_count": null,
   "metadata": {},
   "outputs": [],
   "source": [
    "selected_data = dataset['Weekly_Snow_Cover'].sel(time='2024-02-02')\n",
    "selected_data.plot()"
   ]
  },
  {
   "cell_type": "code",
   "execution_count": null,
   "metadata": {},
   "outputs": [],
   "source": [
    "raster_layer = dataset['Weekly_Snow_Cover'].sel(time='2024-02-02')"
   ]
  },
  {
   "cell_type": "code",
   "execution_count": null,
   "metadata": {},
   "outputs": [],
   "source": [
    "raster_layer_min = np.nanmin(raster_layer)\n",
    "raster_layer_max = np.nanmax(raster_layer)"
   ]
  },
  {
   "cell_type": "code",
   "execution_count": null,
   "metadata": {},
   "outputs": [],
   "source": [
    "variable='Weekly_Snow_Cover'\n",
    "output_path='snow_raster_layer.png'\n",
    "scale='time'\n",
    "time_step='2024-02-02'"
   ]
  },
  {
   "cell_type": "code",
   "execution_count": null,
   "metadata": {},
   "outputs": [],
   "source": [
    "na_mask = np.isnan(raster_layer)\n",
    "\n",
    "if raster_layer_max > raster_layer_min:\n",
    "    normalized_layer = (raster_layer - raster_layer_min) / (raster_layer_max - raster_layer_min)\n",
    "else:\n",
    "    normalized_layer = np.zeros_like(raster_layer)\n",
    "\n",
    "\n",
    "\n",
    "colormap = plt.get_cmap('Blues_r')\n",
    "rgba_image = colormap(normalized_layer)\n",
    "\n",
    "rgba_image[..., 3] = np.where(na_mask, 0, 1)\n",
    "\n",
    "rgba_image = (rgba_image * 255).astype(np.uint8)\n",
    "\n",
    "image = Image.fromarray(rgba_image, 'RGBA')\n",
    "image.save(output_path)\n",
    "\n",
    "top_left, top_right, bottom_left, bottom_right = get_extents(dataset, variable=variable)\n",
    "\n",
    "buffered = io.BytesIO()\n",
    "image.save(buffered, format=\"PNG\")"
   ]
  },
  {
   "cell_type": "code",
   "execution_count": null,
   "metadata": {},
   "outputs": [],
   "source": [
    "plt.imshow(image)"
   ]
  },
  {
   "cell_type": "markdown",
   "metadata": {},
   "source": [
    "# load_dotenv"
   ]
  },
  {
   "cell_type": "code",
   "execution_count": null,
   "metadata": {},
   "outputs": [],
   "source": [
    "import os\n",
    "from dotenv import load_dotenv\n",
    "\n",
    "load_dotenv()"
   ]
  },
  {
   "cell_type": "code",
   "execution_count": null,
   "metadata": {},
   "outputs": [],
   "source": [
    "os.getenv('path_hdf')"
   ]
  },
  {
   "cell_type": "markdown",
   "metadata": {},
   "source": [
    "# Dotenv_values"
   ]
  },
  {
   "cell_type": "code",
   "execution_count": null,
   "metadata": {},
   "outputs": [],
   "source": [
    "from dotenv import dotenv_values\n",
    "\n",
    "config = dotenv_values(\".env\")  # config = {\"USER\": \"foo\", \"EMAIL\": \"foo@example.org\"}"
   ]
  },
  {
   "cell_type": "code",
   "execution_count": null,
   "metadata": {},
   "outputs": [],
   "source": [
    "config['path_hdf']"
   ]
  }
 ],
 "metadata": {
  "kernelspec": {
   "display_name": "nost_updates_test",
   "language": "python",
   "name": "python3"
  },
  "language_info": {
   "codemirror_mode": {
    "name": "ipython",
    "version": 3
   },
   "file_extension": ".py",
   "mimetype": "text/x-python",
   "name": "python",
   "nbconvert_exporter": "python",
   "pygments_lexer": "ipython3",
   "version": "3.12.4"
  }
 },
 "nbformat": 4,
 "nbformat_minor": 2
}
